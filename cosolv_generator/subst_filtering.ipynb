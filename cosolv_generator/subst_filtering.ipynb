{
 "cells": [
  {
   "cell_type": "markdown",
   "metadata": {},
   "source": [
    "## Preparation"
   ]
  },
  {
   "cell_type": "code",
   "execution_count": 1,
   "metadata": {},
   "outputs": [],
   "source": [
    "from subprocess import getoutput as gop"
   ]
  },
  {
   "cell_type": "code",
   "execution_count": 2,
   "metadata": {},
   "outputs": [],
   "source": [
    "import pandas as pd\n",
    "import numpy as np\n",
    "from rdkit import Chem\n",
    "from rdkit.Chem import AllChem\n",
    "from rdkit.Chem import rdMolDescriptors"
   ]
  },
  {
   "cell_type": "code",
   "execution_count": 3,
   "metadata": {},
   "outputs": [],
   "source": [
    "from rdkit.Chem import rdFMCS\n",
    "from rdkit.Chem import Draw"
   ]
  },
  {
   "cell_type": "code",
   "execution_count": 4,
   "metadata": {},
   "outputs": [],
   "source": [
    "def _InitialiseNeutralisationReactions():\n",
    "    patts= (\n",
    "        # Imidazoles\n",
    "        ('[n+;H]','n'),\n",
    "        # Amines\n",
    "        ('[N+;!H0]','N'),\n",
    "        # Carboxylic acids and alcohols\n",
    "        ('[$([O-]);!$([O-][#7])]','O'),\n",
    "        # Thiols\n",
    "        ('[S-;X1]','S'),\n",
    "        # Sulfonamides\n",
    "        ('[$([N-;X2]S(=O)=O)]','N'),\n",
    "        # Enamines\n",
    "        ('[$([N-;X2][C,N]=C)]','N'),\n",
    "        # Tetrazoles\n",
    "        ('[n-]','[nH]'),\n",
    "        # Sulfoxides\n",
    "        ('[$([S-]=O)]','S'),\n",
    "        # Amides\n",
    "        ('[$([N-]C=O)]','N'),\n",
    "        )\n",
    "    return [(Chem.MolFromSmarts(x),Chem.MolFromSmiles(y,False)) for x,y in patts]\n",
    "\n",
    "_reactions=None\n",
    "def NeutraliseCharges(smiles, reactions=None):\n",
    "    global _reactions\n",
    "    if reactions is None:\n",
    "        if _reactions is None:\n",
    "            _reactions=_InitialiseNeutralisationReactions()\n",
    "        reactions=_reactions\n",
    "    mol = Chem.MolFromSmiles(smiles)\n",
    "    replaced = False\n",
    "    for i,(reactant, product) in enumerate(reactions):\n",
    "        while mol.HasSubstructMatch(reactant):\n",
    "            replaced = True\n",
    "            rms = AllChem.ReplaceSubstructs(mol, reactant, product)\n",
    "            mol = rms[0]\n",
    "    if replaced:\n",
    "        return Chem.MolToSmiles(mol,True)\n",
    "    else:\n",
    "        return smiles"
   ]
  },
  {
   "cell_type": "code",
   "execution_count": 5,
   "metadata": {},
   "outputs": [],
   "source": [
    "def issubstructure(m1, m2):\n",
    "    res = rdFMCS.FindMCS([m1, m2])\n",
    "    return m1.GetNumAtoms() == res.numAtoms or m2.GetNumAtoms() == res.numAtoms"
   ]
  },
  {
   "cell_type": "markdown",
   "metadata": {},
   "source": [
    "## Read fragments.csv"
   ]
  },
  {
   "cell_type": "code",
   "execution_count": 6,
   "metadata": {},
   "outputs": [
    {
     "data": {
      "text/html": [
       "<div>\n",
       "<style scoped>\n",
       "    .dataframe tbody tr th:only-of-type {\n",
       "        vertical-align: middle;\n",
       "    }\n",
       "\n",
       "    .dataframe tbody tr th {\n",
       "        vertical-align: top;\n",
       "    }\n",
       "\n",
       "    .dataframe thead th {\n",
       "        text-align: right;\n",
       "    }\n",
       "</style>\n",
       "<table border=\"1\" class=\"dataframe\">\n",
       "  <thead>\n",
       "    <tr style=\"text-align: right;\">\n",
       "      <th></th>\n",
       "      <th>SMILES</th>\n",
       "      <th>cnt</th>\n",
       "    </tr>\n",
       "  </thead>\n",
       "  <tbody>\n",
       "    <tr>\n",
       "      <th>0</th>\n",
       "      <td>OC=O</td>\n",
       "      <td>1</td>\n",
       "    </tr>\n",
       "    <tr>\n",
       "      <th>1</th>\n",
       "      <td>CN[C@H]1[C@H](OC)C=CC[C@@H]1N</td>\n",
       "      <td>1</td>\n",
       "    </tr>\n",
       "    <tr>\n",
       "      <th>2</th>\n",
       "      <td>CCC</td>\n",
       "      <td>1</td>\n",
       "    </tr>\n",
       "    <tr>\n",
       "      <th>3</th>\n",
       "      <td>CC=O</td>\n",
       "      <td>1</td>\n",
       "    </tr>\n",
       "    <tr>\n",
       "      <th>4</th>\n",
       "      <td>CC</td>\n",
       "      <td>1</td>\n",
       "    </tr>\n",
       "  </tbody>\n",
       "</table>\n",
       "</div>"
      ],
      "text/plain": [
       "                          SMILES  cnt\n",
       "0                           OC=O    1\n",
       "1  CN[C@H]1[C@H](OC)C=CC[C@@H]1N    1\n",
       "2                            CCC    1\n",
       "3                           CC=O    1\n",
       "4                             CC    1"
      ]
     },
     "execution_count": 6,
     "metadata": {},
     "output_type": "execute_result"
    }
   ],
   "source": [
    "fragments = pd.read_csv(\"fragments.csv\", names=[\"SMILES\", \"cnt\"])\n",
    "fragments.head()"
   ]
  },
  {
   "cell_type": "markdown",
   "metadata": {},
   "source": [
    "## Unite some records which canonical smiles are same"
   ]
  },
  {
   "cell_type": "code",
   "execution_count": 7,
   "metadata": {},
   "outputs": [],
   "source": [
    "fragments[\"CANONICAL_SMILES\"] = fragments.SMILES.apply(lambda x: Chem.MolToSmiles(Chem.MolFromSmiles(x)))\n",
    "for idx, item in fragments.iterrows():\n",
    "    smiles_neut = NeutraliseCharges(item.CANONICAL_SMILES)\n",
    "    if (fragments.CANONICAL_SMILES == smiles_neut).any():\n",
    "        fragments.loc[idx, \"CANONICAL_SMILES\"] = smiles_neut"
   ]
  },
  {
   "cell_type": "code",
   "execution_count": 8,
   "metadata": {},
   "outputs": [],
   "source": [
    "fragments = fragments.groupby(\"CANONICAL_SMILES\").sum().sort_values(\"cnt\", ascending=False).reset_index()"
   ]
  },
  {
   "cell_type": "markdown",
   "metadata": {},
   "source": [
    "## Calculate several descriptors"
   ]
  },
  {
   "cell_type": "code",
   "execution_count": 9,
   "metadata": {},
   "outputs": [],
   "source": [
    "fragments[\"mol\"] = fragments.CANONICAL_SMILES.apply(Chem.MolFromSmiles)\n",
    "fragments[\"NumCuttingSections\"] = fragments.mol.apply(lambda m: sum([a.GetIsotope() == 1 for a in m.GetAtoms()]))\n",
    "fragments[\"NumAliphaticRings\"] = fragments.mol.apply(rdMolDescriptors.CalcNumAliphaticRings)\n",
    "fragments[\"NumAromaticRings\"] = fragments.mol.apply(rdMolDescriptors.CalcNumAromaticRings)\n",
    "fragments[\"NumLargestRingAtoms\"] = fragments.mol.apply(lambda m: ([len(l) for l in m.GetRingInfo().AtomRings()]))\n",
    "fragments[\"NumLargestRingAtoms\"] = fragments.NumLargestRingAtoms.apply(lambda l: max(l) if len(l) != 0 else 0)\n",
    "fragments[\"NumRings\"] = fragments.NumAliphaticRings + fragments.NumAromaticRings\n",
    "fragments[\"NumAtoms\"] = fragments.mol.apply(lambda m: m.GetNumAtoms()) - fragments.NumCuttingSections\n",
    "fragments[\"NumHeteroAtoms\"] = fragments.mol.apply(rdMolDescriptors.CalcNumHeteroatoms)\n",
    "fragments[\"NumHBA\"] = fragments.mol.apply(rdMolDescriptors.CalcNumHBA)\n",
    "fragments[\"NumHBD\"] = fragments.mol.apply(rdMolDescriptors.CalcNumHBD)\n",
    "fragments[\"NumDoubleBonds\"] = fragments.CANONICAL_SMILES.apply(lambda s: s.count(\"=\"))\n",
    "fragments[\"NumTripleBonds\"] = fragments.CANONICAL_SMILES.apply(lambda s: s.count(\"#\"))\n",
    "fragments[\"ExistBoron\"] = fragments.mol.apply(lambda m: sum([(a.GetAtomicNum() == 5) for a in m.GetAtoms()]) != 0)\n",
    "fragments[\"ExistSilicon\"] = fragments.mol.apply(lambda m: sum([(a.GetAtomicNum() == 14) for a in m.GetAtoms()]) != 0)"
   ]
  },
  {
   "cell_type": "markdown",
   "metadata": {},
   "source": [
    "## Substructure filtering\n",
    "\n",
    "- Filtering based on properties of each molecule\n",
    "- Filtering based on substructural relationship"
   ]
  },
  {
   "cell_type": "code",
   "execution_count": 10,
   "metadata": {},
   "outputs": [
    {
     "name": "stdout",
     "output_type": "stream",
     "text": [
      "5\n",
      "5\n",
      "5\n",
      "5\n",
      "3\n",
      "3\n",
      "0\n",
      "0\n"
     ]
    }
   ],
   "source": [
    "fragments = fragments.query(\"NumAliphaticRings <= 1 and NumAromaticRings <= 2\")\n",
    "print(len(fragments))\n",
    "fragments = fragments.query(\"NumAliphaticRings == 0 or NumAromaticRings == 0\")\n",
    "print(len(fragments))\n",
    "fragments = fragments.query(\"NumRings <= 2\")\n",
    "print(len(fragments))\n",
    "fragments = fragments.query(\"not (NumRings == 0 and NumAtoms > 6)\")\n",
    "print(len(fragments))\n",
    "fragments = fragments.query(\"not (NumRings == 0 and NumHeteroAtoms == 0)\")\n",
    "print(len(fragments))\n",
    "fragments = fragments.query(\"NumLargestRingAtoms <= 6\")\n",
    "print(len(fragments))\n",
    "fragments = fragments.query(\"cnt >= 5\")\n",
    "print(len(fragments))\n",
    "fragments = fragments.query(\"ExistBoron == False and ExistSilicon == False\")\n",
    "print(len(fragments))\n"
   ]
  },
  {
   "cell_type": "code",
   "execution_count": 11,
   "metadata": {},
   "outputs": [
    {
     "name": "stdout",
     "output_type": "stream",
     "text": [
      "0\n"
     ]
    }
   ],
   "source": [
    "fragments[\"deleteflag\"] = False\n",
    "for idx, item in fragments[fragments.NumAtoms < 3].iterrows():\n",
    "    temp = fragments[fragments.mol.apply(lambda m: issubstructure(m, item.mol))]\n",
    "    temp = temp.query(\"NumAtoms == %d + 1 and NumHeteroAtoms == %d and NumHBA == %d and NumHBD == %d and NumCuttingSections == %d\" % (item.NumAtoms, item.NumHeteroAtoms, item.NumHBA, item.NumHBD, item.NumCuttingSections))\n",
    "    temp = temp.query(\"NumDoubleBonds == %d and NumTripleBonds == %d\" % (item.NumDoubleBonds, item.NumTripleBonds))\n",
    "    # temp = temp.query(\"NumAliphaticRings == %d and NumAromaticRings == %d\" % (item.NumAliphaticRings, item.NumAromaticRings)) \n",
    "    # The above filtering is not needed because the condition is always true for fragments with fragments.NumAtoms < 3 \n",
    "    if(len(temp) != 0):\n",
    "        fragments.loc[idx, \"deleteflag\"] = True\n",
    "fragments = fragments[fragments.deleteflag == False]\n",
    "del fragments[\"deleteflag\"]\n",
    "\n",
    "print(len(fragments))"
   ]
  },
  {
   "cell_type": "code",
   "execution_count": 12,
   "metadata": {},
   "outputs": [
    {
     "name": "stdout",
     "output_type": "stream",
     "text": [
      "0\n"
     ]
    }
   ],
   "source": [
    "fragments[\"deleteflag\"] = False\n",
    "for idx, item in fragments.query(\"NumAtoms > 5 and NumRings == 0\").iterrows():\n",
    "    temp = fragments[fragments.mol.apply(lambda m: issubstructure(m, item.mol))]\n",
    "    temp = temp.query(\"NumAtoms == %d + 1 and NumHeteroAtoms == %d and NumHBA == %d and NumHBD == %d and NumCuttingSections == %d\" % (item.NumAtoms, item.NumHeteroAtoms, item.NumHBA, item.NumHBD, item.NumCuttingSections))\n",
    "    temp = temp.query(\"NumDoubleBonds == %d and NumTripleBonds == %d\" % (item.NumDoubleBonds, item.NumTripleBonds))\n",
    "    temp = temp.query(\"NumAliphaticRings == %d and NumAromaticRings == %d\" % (item.NumAliphaticRings, item.NumAromaticRings))\n",
    "    if(len(temp) != 0):\n",
    "        fragments.deleteflag[idx] = True\n",
    "fragments = fragments[fragments.deleteflag == False]\n",
    "del fragments[\"deleteflag\"]\n",
    "\n",
    "print(len(fragments))"
   ]
  },
  {
   "cell_type": "markdown",
   "metadata": {},
   "source": [
    "## Visualization and Output of selected substructures\n",
    "\n",
    "- substructure_list_000~999.pdf\n",
    "- cosolvent_substructures.smi"
   ]
  },
  {
   "cell_type": "code",
   "execution_count": 13,
   "metadata": {},
   "outputs": [],
   "source": [
    "fragments = fragments.sort_values([\"cnt\", \"CANONICAL_SMILES\"], ascending=False)\n",
    "imgs=[]\n",
    "mols = list(fragments.mol)\n",
    "struct_per_page = 90\n",
    "for i in range(0, len(mols), struct_per_page):\n",
    "    imgs.append(Draw.MolsToGridImage(mols[i:i+struct_per_page], \n",
    "                                     molsPerRow=6, subImgSize=(300,200), \n",
    "                                     legends=[f\"counts: {n}\" for n in fragments.cnt][i:i+struct_per_page]))\n",
    "\n",
    "for i in range(len(imgs)):\n",
    "    imgs[i].save(\"substructure_list_%03d.pdf\"%i)"
   ]
  },
  {
   "cell_type": "code",
   "execution_count": 14,
   "metadata": {},
   "outputs": [],
   "source": [
    "fragments[[\"CANONICAL_SMILES\"]].to_csv(\"cosolvent_substructures.smi\", header=None, index=None)"
   ]
  }
 ],
 "metadata": {
  "kernelspec": {
   "display_name": "Python 3",
   "language": "python",
   "name": "python3"
  },
  "language_info": {
   "codemirror_mode": {
    "name": "ipython",
    "version": 3
   },
   "file_extension": ".py",
   "mimetype": "text/x-python",
   "name": "python",
   "nbconvert_exporter": "python",
   "pygments_lexer": "ipython3",
   "version": "3.6.10"
  }
 },
 "nbformat": 4,
 "nbformat_minor": 4
}
